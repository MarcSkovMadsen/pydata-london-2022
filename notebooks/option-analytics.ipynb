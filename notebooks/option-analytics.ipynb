{
 "cells": [
  {
   "cell_type": "markdown",
   "id": "69c4da1a-79fa-4eca-b2b7-d9197e92b297",
   "metadata": {},
   "source": [
    "# PyData London 2022 - Man Group Charting Competition\n",
    "\n",
    "Source: https://github.com/man-group/pydata2022\n",
    "\n",
    "To run the notebook and serve the web app you would need to run\n",
    "\n",
    "```bash\n",
    "pip install pandas pyarrow panel hvplot holoviews \n",
    "```\n",
    "\n",
    "We will end up building an interactive web app called *Options Analytics* that looks like below.\n",
    "\n",
    "You can use the app to do \"What if\" Analysis and create trading ideas.\n",
    "\n",
    "![Video](options-analytics-speedup.gif)\n",
    "\n",
    "You can serve the app via `panel serve option-analytics.ipynb`."
   ]
  },
  {
   "cell_type": "markdown",
   "id": "a3660fca-ff44-4570-a572-348720f9e49a",
   "metadata": {},
   "source": [
    "## Imports"
   ]
  },
  {
   "cell_type": "code",
   "execution_count": null,
   "id": "54c67500-451f-4d0e-9324-0b0ee251fef3",
   "metadata": {},
   "outputs": [],
   "source": [
    "import pandas as pd\n",
    "import panel as pn\n",
    "import hvplot.pandas\n",
    "import holoviews as hv\n",
    "from io import StringIO"
   ]
  },
  {
   "cell_type": "markdown",
   "id": "a768b53d-3c2d-4db9-acd2-646552ab6450",
   "metadata": {},
   "source": [
    "## Configuration"
   ]
  },
  {
   "cell_type": "code",
   "execution_count": null,
   "id": "a6c66119-978b-423b-8a93-e33f68738497",
   "metadata": {},
   "outputs": [],
   "source": [
    "pn.config.raw_css.append(\"\"\"\n",
    ".bk-root {\n",
    "  height: calc( 100vh - 150px ) !important;\n",
    "}\n",
    "\"\"\")\n",
    "\n",
    "pn.extension(\"perspective\", sizing_mode=\"stretch_width\", template=\"fast\")"
   ]
  },
  {
   "cell_type": "code",
   "execution_count": null,
   "id": "ffdb83b7-0ab3-4f9e-8692-69289a8a9ffd",
   "metadata": {},
   "outputs": [],
   "source": [
    "SITE = \"Man-Group\"\n",
    "TITLE = \"Options Analytics\"\n",
    "LOGO = \"https://pydata.org/london2022/wp-content/uploads/2022/02/PyData_logo.png\"\n",
    "\n",
    "SOURCE_DATA = \"https://github.com/man-group/pydata2022/raw/main/option_chain_data.parquet\"\n",
    "LOCAL_DATA = \"option_chain_data.parquet\"\n",
    "\n",
    "COLUMNS = [\"type\", \"strike\", \"inTheMoney\", \"impliedVolatility\", \"lastPrice\", \"lastTradeDate\", \"volume\", \"openInterest\", \"bid\", \"ask\", \"spread\", \"change\", \"percentChange\", \"contractSymbol\", ]\n",
    "HOVER_COLS = [\"strike\", \"impliedVolatility\", \"lastPrice\", \"volume\", \"openInterest\", \"bid\", \"ask\", \"spread\", \"contractSymbol\",]"
   ]
  },
  {
   "cell_type": "markdown",
   "id": "73aeba41-07cf-44c5-9096-7f4f6521bda2",
   "metadata": {},
   "source": [
    "## Data\n",
    "\n",
    "### Extract"
   ]
  },
  {
   "cell_type": "code",
   "execution_count": null,
   "id": "7de38c2f-23eb-494d-b58e-7138743c641d",
   "metadata": {},
   "outputs": [],
   "source": [
    "def extract():\n",
    "    try:\n",
    "        return pd.read_parquet(LOCAL_DATA)\n",
    "    except FileNotFoundError:\n",
    "        data = pd.read_parquet(SOURCE_DATA)\n",
    "        data.to_parquet(LOCAL_DATA)\n",
    "        return data\n",
    "\n",
    "\n",
    "source_data = extract()\n",
    "source_data.head(2)"
   ]
  },
  {
   "cell_type": "markdown",
   "id": "3072dc45-574d-4019-b513-a35a52b669a3",
   "metadata": {},
   "source": [
    "## Transform"
   ]
  },
  {
   "cell_type": "code",
   "execution_count": null,
   "id": "c34213ae-385b-425f-8283-6cba0131fcf9",
   "metadata": {},
   "outputs": [],
   "source": [
    "def transform(data: pd.DataFrame) -> pd.DataFrame:\n",
    "    data[\"date\"] = data[\"date\"].astype(\"datetime64[ns]\")\n",
    "    data[\"inTheMoney\"] = data[\"inTheMoney\"].astype(\"bool\")\n",
    "\n",
    "    data[\"spread\"] = data[\"ask\"] - data[\"bid\"]\n",
    "    return data[COLUMNS]\n",
    "\n",
    "\n",
    "data = transform(source_data)\n",
    "data.head(2)"
   ]
  },
  {
   "cell_type": "markdown",
   "id": "258ea625-64f2-46ed-9ed7-25a2837ee313",
   "metadata": {},
   "source": [
    "## Plot"
   ]
  },
  {
   "cell_type": "code",
   "execution_count": null,
   "id": "4d755f1b-347e-401a-98b8-5d61284009a0",
   "metadata": {},
   "outputs": [],
   "source": [
    "def get_plots(data: pd.DataFrame):\n",
    "    call_data = data[data[\"type\"] == \"Call\"]\n",
    "    put_data = data[data[\"type\"] == \"Put\"]\n",
    "    plots = [\n",
    "        call_data.hvplot(\n",
    "            x=\"strike\",\n",
    "            y=\"impliedVolatility\",\n",
    "            responsive=True,\n",
    "            min_height=300,\n",
    "            ylabel=\"Implied Volatility\",\n",
    "            title=\"Call\",\n",
    "            hover_cols=HOVER_COLS,\n",
    "        ),\n",
    "        put_data.hvplot(\n",
    "            x=\"strike\",\n",
    "            y=\"impliedVolatility\",\n",
    "            responsive=True,\n",
    "            min_height=300,\n",
    "            ylabel=\"Implied Volatility\",\n",
    "            title=\"Put\",\n",
    "            hover_cols=HOVER_COLS,\n",
    "        ),\n",
    "        call_data.hvplot(\n",
    "            x=\"strike\",\n",
    "            y=\"openInterest\",\n",
    "            responsive=True,\n",
    "            height=200,\n",
    "            ylabel=\"Open Interest\",\n",
    "            hover_cols=HOVER_COLS,\n",
    "        ),\n",
    "        put_data.hvplot(\n",
    "            x=\"strike\",\n",
    "            y=\"openInterest\",\n",
    "            responsive=True,\n",
    "            height=200,\n",
    "            ylabel=\"Open Interest\",\n",
    "            hover_cols=HOVER_COLS,\n",
    "        ),\n",
    "        call_data.hvplot(\n",
    "            x=\"strike\",\n",
    "            y=\"spread\",\n",
    "            responsive=True,\n",
    "            height=200,\n",
    "            ylabel=\"Spread\",\n",
    "            hover_cols=HOVER_COLS,\n",
    "        ),\n",
    "        put_data.hvplot(\n",
    "            x=\"strike\",\n",
    "            y=\"spread\",\n",
    "            responsive=True,\n",
    "            height=200,\n",
    "            ylabel=\"Spread\",\n",
    "            hover_cols=HOVER_COLS,\n",
    "        ),\n",
    "    ]\n",
    "    layout = hv.Layout(plots).cols(2)\n",
    "    return layout\n",
    "\n",
    "\n",
    "plots = get_plots(data)\n",
    "plots"
   ]
  },
  {
   "cell_type": "markdown",
   "id": "6bc6ea31-38ad-44f6-af47-83354c40fbf8",
   "metadata": {},
   "source": [
    "## Widgets"
   ]
  },
  {
   "cell_type": "code",
   "execution_count": null,
   "id": "43a820e4-5d98-4654-afee-1b9996e2c56a",
   "metadata": {},
   "outputs": [],
   "source": [
    "stock_selector = pn.widgets.Select(options=[\"Google\"], name=\"Name\", max_width=300)"
   ]
  },
  {
   "cell_type": "code",
   "execution_count": null,
   "id": "d72b8eba-0ac3-4f83-bdcd-d9e85446e90e",
   "metadata": {},
   "outputs": [],
   "source": [
    "def get_stringio(data: pd.DataFrame) -> StringIO:\n",
    "    sio = StringIO()\n",
    "    data.to_csv(sio)\n",
    "    sio.seek(0)\n",
    "    return sio\n",
    "\n",
    "sio_to_download = get_stringio(data)\n",
    "\n",
    "download_button = pn.widgets.FileDownload(\n",
    "    sio_to_download,\n",
    "    embed=True,\n",
    "    filename=\"google.csv\",\n",
    "    sizing_mode=\"fixed\",\n",
    "    width=150,\n",
    "    height=52,\n",
    "    name=\"Download\",\n",
    "    label=\"google.csv\"\n",
    ")"
   ]
  },
  {
   "cell_type": "markdown",
   "id": "76b34951-d9c3-42f3-a453-5d61f3132dd9",
   "metadata": {},
   "source": [
    "## Panels"
   ]
  },
  {
   "cell_type": "code",
   "execution_count": null,
   "id": "a6cc2a52-cfae-4065-a68c-c8fd1e0b0e8d",
   "metadata": {},
   "outputs": [],
   "source": [
    "plot_pane = pn.pane.HoloViews(plots, sizing_mode=\"stretch_both\")\n",
    "pivot_pane = pn.pane.Perspective(data, sizing_mode=\"stretch_both\")\n",
    "doc_pane = pn.pane.Markdown(\"\"\"\n",
    "# Option Chain Visualization\n",
    "\n",
    "The *Option Analytics* tool was developed as a part of the PyData London 2022 chart visualization competition by **Man-Group**. \n",
    "\n",
    "The data is *option chain data*. See [Investopedia - Option Chain](https://www.investopedia.com/terms/o/optionchain.asp#:~:text=An%20options%20chain%2C%20also%20known,within%20a%20given%20maturity%20period).\n",
    "\n",
    "I've used [Panel](https://panel.holoviz.org/index.html) as *data app framework* and [hvPlot](https://hvplot.holoviz.org/). These tools are superior for working in an out of a notebook. Especially for quant analysis.\n",
    "\n",
    "Source: [man-group/pydata2022](https://github.com/man-group/pydata2022)\n",
    "\"\"\", name=\"🎓 Docs\")"
   ]
  },
  {
   "cell_type": "markdown",
   "id": "78dd16f2-1de2-4aca-b7b2-11ca96c4215e",
   "metadata": {},
   "source": [
    "## Layouts"
   ]
  },
  {
   "cell_type": "code",
   "execution_count": null,
   "id": "56b1ba89-2902-47a3-bed8-db97821a9a55",
   "metadata": {},
   "outputs": [],
   "source": [
    "tab_layout = pn.Tabs((\"📈 Plot\", plot_pane), (\"🛠️ Pivot\", pivot_pane), doc_pane, margin=10)"
   ]
  },
  {
   "cell_type": "code",
   "execution_count": null,
   "id": "2d54233e-ee4d-4a85-afc9-1812e3f987bc",
   "metadata": {},
   "outputs": [],
   "source": [
    "tool_layout = pn.Column(\n",
    "    pn.Row(stock_selector, download_button, margin=(10,0,20,0)),\n",
    "    tab_layout,\n",
    ")\n",
    "tool_layout.servable()"
   ]
  },
  {
   "cell_type": "markdown",
   "id": "5cafc2c5-d223-47e2-af8f-a7ac471a414e",
   "metadata": {},
   "source": [
    "Note: For some unknown reason the Perspective Viewer pivot table does not render in the notebook."
   ]
  },
  {
   "cell_type": "markdown",
   "id": "69732493-066c-42dd-8dbc-97b131f7bb7b",
   "metadata": {},
   "source": [
    "## Template"
   ]
  },
  {
   "cell_type": "code",
   "execution_count": null,
   "id": "524f1655-ebeb-46d8-83c9-0ccb40e4d4e5",
   "metadata": {},
   "outputs": [],
   "source": [
    "template = pn.state.template"
   ]
  },
  {
   "cell_type": "code",
   "execution_count": null,
   "id": "098c7bdd-0d57-4f62-abdd-a2190792d382",
   "metadata": {},
   "outputs": [],
   "source": [
    "template.param.update(\n",
    "    site=\"Man-Group Viz Competition\",\n",
    "    title=TITLE,\n",
    "    logo=LOGO,\n",
    ")"
   ]
  },
  {
   "cell_type": "code",
   "execution_count": null,
   "id": "f6cf6e2e-6ca1-466a-882a-5825fadd5515",
   "metadata": {},
   "outputs": [],
   "source": [
    "if template.theme == pn.template.DarkTheme:\n",
    "    pivot_pane.theme = \"material-dark\""
   ]
  },
  {
   "cell_type": "markdown",
   "id": "bb1afbb4-860a-404d-ac05-9f41c0f3a719",
   "metadata": {},
   "source": [
    "## Serve the app"
   ]
  },
  {
   "cell_type": "markdown",
   "id": "ba69cc86-3332-45fa-8022-925e4949cb6c",
   "metadata": {},
   "source": [
    "The app can now be served via `panel serve option-analytics.ipynb` and is available via [http://localhost:5006/option_smiles?theme=dark](http://localhost:5006/option_smiles?theme=dark).\n",
    "\n",
    "![Video](options-analytics-speedup.gif)"
   ]
  }
 ],
 "metadata": {
  "kernelspec": {
   "display_name": "Python 3 (ipykernel)",
   "language": "python",
   "name": "python3"
  },
  "language_info": {
   "codemirror_mode": {
    "name": "ipython",
    "version": 3
   },
   "file_extension": ".py",
   "mimetype": "text/x-python",
   "name": "python",
   "nbconvert_exporter": "python",
   "pygments_lexer": "ipython3",
   "version": "3.9.4"
  }
 },
 "nbformat": 4,
 "nbformat_minor": 5
}
